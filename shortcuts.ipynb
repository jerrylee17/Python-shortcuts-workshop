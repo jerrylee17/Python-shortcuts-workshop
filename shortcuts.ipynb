{
 "nbformat": 4,
 "nbformat_minor": 2,
 "metadata": {
  "language_info": {
   "name": "python",
   "codemirror_mode": {
    "name": "ipython",
    "version": 3
   },
   "version": "3.7.4-final"
  },
  "orig_nbformat": 2,
  "file_extension": ".py",
  "mimetype": "text/x-python",
  "name": "python",
  "npconvert_exporter": "python",
  "pygments_lexer": "ipython3",
  "version": 3,
  "kernelspec": {
   "name": "python37464bitac03641431254c3c98036337416b6071",
   "display_name": "Python 3.7.4 64-bit"
  }
 },
 "cells": [
  {
   "cell_type": "markdown",
   "execution_count": null,
   "metadata": {},
   "outputs": [],
   "source": [
    "# Python Shortcuts and Tricks\n",
    "\n",
    "This is the first workshop of the SCE Data structures and Algorithms series. Although this tutorial does not introduce any new data structures or algorithms, it prepares one to use Pytthon in a more concise manner and cleans up the code. This workshops requires you to know the basics of python. A beginner python workshop can be found below.\n",
    "\n",
    "\n",
    "Beginner python workshop: https://github.com/evanugarte/PythonWorkshop\n",
    "\n",
    "Hey everyone! Today you will learn some tricks that can shorten your python code and make it more readable. \n",
    "\n",
    "Some topics we will cover are\n",
    "\n",
    "1. Ternary operators\n",
    "2. Large number underscore\n",
    "3. `with` keyword\n",
    "4. enumerate\n",
    "5. zip\n",
    "6. list comprehension\n",
    "7. dictionary get function\n",
    "8. else statements"
   ]
  },
  {
   "cell_type": "markdown",
   "execution_count": null,
   "metadata": {},
   "outputs": [],
   "source": [
    "## Ternary operators\n",
    "\n",
    "Ternary operators are basically \"if\" statements that can be written in 1 line. They makes the format of code neater and more compressed. "
   ]
  },
  {
   "cell_type": "markdown",
   "execution_count": null,
   "metadata": {},
   "outputs": [],
   "source": [
    "Here is an example of code without ternary operators\n"
   ]
  },
  {
   "cell_type": "code",
   "execution_count": null,
   "metadata": {},
   "outputs": [],
   "source": [
    "flag = 1\n",
    "x = 0\n",
    "\n",
    "if flag == 1:\n",
    "    x = 100\n",
    "else: \n",
    "    x = 99\n",
    "\n",
    "print(x)\n",
    "\n",
    "# x should be equal to 100"
   ]
  },
  {
   "cell_type": "markdown",
   "execution_count": null,
   "metadata": {},
   "outputs": [],
   "source": [
    "This code is really messy and requires many extra lines to run. \n",
    "\n",
    "Here is the code shortened using a ternary operator"
   ]
  },
  {
   "cell_type": "code",
   "execution_count": null,
   "metadata": {},
   "outputs": [],
   "source": [
    "flag = 1\n",
    "\n",
    "x = 100 if flag == 1 else -100\n",
    "print(x)\n",
    "\n",
    "# x is equal to 100"
   ]
  },
  {
   "cell_type": "markdown",
   "execution_count": null,
   "metadata": {},
   "outputs": [],
   "source": [
    "As you can see, we have compressed 5 lines into 1!!!\n",
    "\n",
    "Try making your own ternary operator below."
   ]
  },
  {
   "cell_type": "code",
   "execution_count": null,
   "metadata": {},
   "outputs": [],
   "source": [
    "flag = False\n",
    "\n",
    "# make a variable that is \"boo\" if flag is false and \"yay\" if flag is true"
   ]
  },
  {
   "cell_type": "markdown",
   "execution_count": null,
   "metadata": {},
   "outputs": [],
   "source": [
    "## Large number underscore\n",
    "\n",
    "Sometimes you have a large number with a whole bunch of zeroes and it gets confusing to read. In python, you can use underscores to separate the zeroes."
   ]
  },
  {
   "cell_type": "code",
   "execution_count": null,
   "metadata": {},
   "outputs": [],
   "source": [
    "x = 100_000_000\n",
    "\n",
    "print(x)"
   ]
  },
  {
   "cell_type": "markdown",
   "execution_count": null,
   "metadata": {},
   "outputs": [],
   "source": [
    "## The `with` keyword\n",
    "\n",
    "Sometimes, you need to open a file, read its contents, and close it. \n",
    "\n",
    "Without the `with` keyword, here is how you would do it."
   ]
  },
  {
   "cell_type": "code",
   "execution_count": null,
   "metadata": {},
   "outputs": [],
   "source": [
    "testfile = open('test.txt')\n",
    "contents = testfile.readlines()\n",
    "testfile.close()\n",
    "\n",
    "print(contents)"
   ]
  },
  {
   "cell_type": "markdown",
   "execution_count": null,
   "metadata": {},
   "outputs": [],
   "source": [
    "This can make your code messy, and if you have to open and modify multiple files, you could lose track of which files you have opened.\n",
    "\n",
    "Fortunately, you can use the `with` keyword!"
   ]
  },
  {
   "cell_type": "code",
   "execution_count": null,
   "metadata": {},
   "outputs": [],
   "source": [
    "with open('test.txt') as f:\n",
    "    contents = f.readlines()\n",
    "\n",
    "print(contents)"
   ]
  },
  {
   "cell_type": "markdown",
   "execution_count": null,
   "metadata": {},
   "outputs": [],
   "source": [
    "As you can see, this makes the code a lot more readable and neat. You can also open multiple files!"
   ]
  },
  {
   "cell_type": "code",
   "execution_count": null,
   "metadata": {},
   "outputs": [],
   "source": [
    "with open('test.txt') as f1, open('test2.txt') as f2:\n",
    "    contents1, contents2 = f1.readlines(), f2.readlines()\n",
    "\n",
    "print(contents1)\n",
    "print(contents2)"
   ]
  },
  {
   "cell_type": "markdown",
   "execution_count": null,
   "metadata": {},
   "outputs": [],
   "source": [
    "## enumerate\n",
    "\n",
    "Sometimes, you need to use a `for` loop and you need both the index and the value from a list. Enumerating the list gives both the index and value of each element.\n",
    "\n",
    "Old way:"
   ]
  },
  {
   "cell_type": "code",
   "execution_count": null,
   "metadata": {},
   "outputs": [],
   "source": [
    "myList = ['a', 'b', 'c']\n",
    "\n",
    "for i in range(len(myList)):\n",
    "    print('Index is: ', i, ' Element is:', myList[i])"
   ]
  },
  {
   "cell_type": "markdown",
   "execution_count": null,
   "metadata": {},
   "outputs": [],
   "source": [
    "This is sloppy code. What if you need to use `myList[i]` many times? Typing that out would take forever. \n",
    "\n",
    "Using enumerate:"
   ]
  },
  {
   "cell_type": "code",
   "execution_count": null,
   "metadata": {},
   "outputs": [],
   "source": [
    "myList = ['a', 'b', 'c']\n",
    "\n",
    "for i, elem in enumerate(myList):\n",
    "    print('Index is: ', i, ' Element is:', elem)"
   ]
  },
  {
   "cell_type": "markdown",
   "execution_count": null,
   "metadata": {},
   "outputs": [],
   "source": [
    "The code looks much neater! "
   ]
  },
  {
   "cell_type": "markdown",
   "execution_count": null,
   "metadata": {},
   "outputs": [],
   "source": [
    "## Zipping\n",
    "\n",
    "Suppose you have 2 lists and you want to loop through them. Instead of using indecies or multiple for loops, you can zip them and unpack them!\n",
    "\n",
    "Old way:"
   ]
  },
  {
   "cell_type": "code",
   "execution_count": null,
   "metadata": {},
   "outputs": [],
   "source": [
    "People = ['Evan', 'Thai', 'Jerry']\n",
    "Positions = ['President', 'Dev team chair', 'Officer']\n",
    "\n",
    "for i in range(len(People)):\n",
    "    if i < len(Positions):\n",
    "        print(People[i], 'is', Positions[i])\n"
   ]
  },
  {
   "cell_type": "markdown",
   "execution_count": null,
   "metadata": {},
   "outputs": [],
   "source": [
    "The issue with this is what if Positions has more elements than People? You would need a try except statement to catch errors.\n",
    "\n",
    "Zipping truncates everything past the smallest index, so you do not need to worry about the errors. "
   ]
  },
  {
   "cell_type": "code",
   "execution_count": null,
   "metadata": {},
   "outputs": [],
   "source": [
    "People = ['Evan', 'Thai', 'Jerry']\n",
    "Positions = ['President', 'Dev team chair', 'Officer']\n",
    "\n",
    "for person, position in zip(People, Positions):\n",
    "    print(person,'is', position)"
   ]
  },
  {
   "cell_type": "code",
   "execution_count": null,
   "metadata": {},
   "outputs": [],
   "source": [
    "Person = ['Evan', 'Thai', 'Jerry'] \n",
    "Major = ['Software Engineering', 'Software Engineering', 'Computer Engineering']\n",
    "\n",
    "\n",
    "\"\"\"\n",
    "Print out:\n",
    "Evan studies Software Engineering\n",
    "Thai studies Software Engineering\n",
    "Jerry studies Computer Engineering\n",
    "\"\"\"\n"
   ]
  },
  {
   "cell_type": "markdown",
   "execution_count": null,
   "metadata": {},
   "outputs": [],
   "source": [
    "## List comprehension\n",
    "\n",
    "Sometimes you need to manipulate a list using a for loop. List comprehension allows you to do this in 1 line.\n",
    "\n",
    "Without list comprehension, you would do it like this:"
   ]
  },
  {
   "cell_type": "code",
   "execution_count": null,
   "metadata": {},
   "outputs": [],
   "source": [
    "a = [1, 2, 3, 4, 5]\n",
    "b = []\n",
    "\n",
    "for element in a:\n",
    "    b.append(element**2)\n",
    "\n",
    "print(b)"
   ]
  },
  {
   "cell_type": "markdown",
   "execution_count": null,
   "metadata": {},
   "outputs": [],
   "source": [
    "Using list comprehension, you can combine all 3 lines of the for loop into 1 line."
   ]
  },
  {
   "cell_type": "code",
   "execution_count": null,
   "metadata": {},
   "outputs": [],
   "source": [
    "a = [1, 2, 3, 4, 5]\n",
    "\n",
    "b = [element**2 for element in a]\n",
    "\n",
    "print(b)"
   ]
  },
  {
   "cell_type": "markdown",
   "execution_count": null,
   "metadata": {},
   "outputs": [],
   "source": [
    "You can also declare variables using list comprehension"
   ]
  },
  {
   "cell_type": "code",
   "execution_count": null,
   "metadata": {},
   "outputs": [],
   "source": [
    "a = [x for x in range(1, 10)]\n",
    "\n",
    "print(a)"
   ]
  },
  {
   "cell_type": "markdown",
   "execution_count": null,
   "metadata": {},
   "outputs": [],
   "source": [
    "Try it yourself!"
   ]
  },
  {
   "cell_type": "code",
   "execution_count": null,
   "metadata": {},
   "outputs": [],
   "source": [
    "# Declare a list with elements from 11-20\n",
    "eleven_to_twenty = None\n",
    "\n",
    "# Subtract 10 from each element of the list\n",
    "one_to_ten = None\n",
    "\n",
    "print(eleven_to_twenty)\n",
    "print(one_to_ten)\n",
    "\"\"\"\n",
    "Should print out:\n",
    "[11, 12, 13, 14, 15, 16, 17, 18, 19]\n",
    "[1, 2, 3, 4, 5, 6, 7, 8, 9]\n",
    "\"\"\"\n"
   ]
  },
  {
   "cell_type": "markdown",
   "execution_count": null,
   "metadata": {},
   "outputs": [],
   "source": [
    "## Dictionary function `dict.get`\n",
    "\n",
    "Dictionaries are pretty much hash maps. Each element consists of a key and a value. To get a value from a dictionary, you simply call the key. \n",
    "\n",
    "Here is an example:"
   ]
  },
  {
   "cell_type": "code",
   "execution_count": null,
   "metadata": {},
   "outputs": [],
   "source": [
    "car = {\n",
    "  'brand': 'Audi',\n",
    "  'model': 'A4',\n",
    "  'year': 2020\n",
    "}\n",
    "\n",
    "print(car['brand'])"
   ]
  },
  {
   "cell_type": "markdown",
   "execution_count": null,
   "metadata": {},
   "outputs": [],
   "source": [
    "Let's see what type of car this is."
   ]
  },
  {
   "cell_type": "code",
   "execution_count": null,
   "metadata": {},
   "outputs": [],
   "source": [
    "car = {\n",
    "  'brand': 'Audi',\n",
    "  'model': 'A4',\n",
    "  'year': 2020\n",
    "}\n",
    "\n",
    "print(car['type'])"
   ]
  },
  {
   "cell_type": "markdown",
   "execution_count": null,
   "metadata": {},
   "outputs": [],
   "source": [
    "Wow there's an error: `KeyError: 'type'`. This is because the key `'type'` does not exist in the dictionary.\n",
    "\n",
    "Using the `.get()` function, we can fix this issue by setting a default `'type'`. "
   ]
  },
  {
   "cell_type": "code",
   "execution_count": null,
   "metadata": {},
   "outputs": [],
   "source": [
    "car = {\n",
    "  'brand': 'Audi',\n",
    "  'model': 'A4',\n",
    "  'year': 2020\n",
    "}\n",
    "\n",
    "print(car.get('type', 'Unknown'))"
   ]
  },
  {
   "cell_type": "markdown",
   "execution_count": null,
   "metadata": {},
   "outputs": [],
   "source": [
    "The first parameter of `dict.get()` is the key and the second parameter is the default value. If the second parameter is not given, it will default to `None`."
   ]
  },
  {
   "cell_type": "markdown",
   "execution_count": null,
   "metadata": {},
   "outputs": [],
   "source": [
    "## Else with a for loop\n",
    "\n",
    "This one is pretty short. You can add an `else` statement after a for loop. the `else` statement will only execute if the for loop was not broken. "
   ]
  },
  {
   "cell_type": "code",
   "execution_count": null,
   "metadata": {},
   "outputs": [],
   "source": [
    "a = [1, 2, 3]\n",
    "\n",
    "for x in a:\n",
    "    if x > 2:\n",
    "        break\n",
    "    print(\"Number: \", x)\n",
    "else:\n",
    "    print(\"I did not break out\")"
   ]
  },
  {
   "cell_type": "markdown",
   "execution_count": null,
   "metadata": {},
   "outputs": [],
   "source": [
    "## Thank you!\n",
    "\n",
    "If you have any questions, let me know!"
   ]
  }
 ]
}